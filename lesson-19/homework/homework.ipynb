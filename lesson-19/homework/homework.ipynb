import pandas as pd

sql_string1 = '''
SELECT Name,
    time(avg(Milliseconds) / 1000, 'unixepoch') as avg_time
FROM (
    SELECT
        g.Name,
        t.Milliseconds
    FROM genres as g
    JOIN tracks as t on g.genreid == t.genreid
)
GROUP BY Name
ORDER BY avg_time'''

pd.read_sql_query(sql_string1, engine)
