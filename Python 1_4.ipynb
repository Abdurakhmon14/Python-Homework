Homework#1
keys = ['name','age','city']
values = ['Alice',25,'New York']

dict2=dict(zip(keys,value))

Homework#2
Scores = {'Alice': 85,'Bob':92,'Charlie':78}
y = max(scores, key=scores.get)

y

Homework#3
A= {1,2,3,4}
B= {3,4,5,6}

A.union(B)

Homework#4 
person = {'name':'John','age':30,'city':'London'} 
u='age' in person.keys()
u

 Homework#5
Grades= {'Alice':'A', 'Bob':'B','Charlie':'A','David':'C'}
l = set=(Grades.values())
l

Homework6
pairs = [("one",1),("two",2),("three",3)]
d= dict(pairs)
d

Homework#7
temperatures= {"monday":20,"tuesday":15, "wednesday":22}
m= min (temperature.values())

Homework8
x={10,20,30,40}
y={30,40,50,60}

x.difference(y)

