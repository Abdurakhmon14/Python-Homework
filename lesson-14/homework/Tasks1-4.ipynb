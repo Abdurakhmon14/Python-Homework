1.Task: JSON parsing
--- write a python script that reads 
the students jon Json file and 
prints details of each student

Task 1
    import json

    with open ('student.json) as file):
        student = json.load(file)

    for student in students:
       for key, value in list(student.items()):
           print(f'{key} : {value}')
        print('')

2.Task : weather API
1. Use this url : http://openweathermap.org/
2. use the requests library to fetch weather data for a specific city(ex. 'your hometown: Tashkent) 
and print relevant information(temperature,humidity,





3. Task : JSON modification
1. write a program that allows users to add new books, 
update existing book information,
and delete books from the books.json - Json file.

def add_book(books):
    title = input("Enter book title: ").strip()
    author = input("Enter author: ").strip()
    year = input("Enter publication year: ").strip()
    isbn = input("Enter ISBN: ").strip()
    
    if any(book['isbn'] == isbn for book in books):
        print("A book with this ISBN already exists.")
        return
    
    if not year.isdigit():
        print("Invalid year. Please enter a numeric year.")
        return
    year = int(year)
    
    new_book = {
        'title': title,
        'author': author,
        'year': year,
        'isbn': isbn
    }
    books.append(new_book)
    save_books(books)
    print("Book added successfully.")

def update_book(books):
    isbn = input("Enter ISBN of the book to update: ").strip()
    for book in books:
        if book['isbn'] == isbn:
            new_title = input(f"Enter new title (current: {book['title']}): ").strip()
            new_author = input(f"Enter new author (current: {book['author']}): ").strip()
            new_year = input(f"Enter new year (current: {book['year']}): ").strip()
            
            if new_title:
                book['title'] = new_title
            if new_author:
                book['author'] = new_author
            if new_year:
                if new_year.isdigit():
                    book['year'] = int(new_year)
                else:
                    print("Invalid year. Year not updated.")
            
            save_books(books)
            print("Book updated successfully.")
            return
    print("Book not found with that ISBN.")

def delete_book(books):
    isbn = input("Enter ISBN of the book to delete: ").strip()
    for i, book in enumerate(books):
        if book['isbn'] == isbn:
            confirm = input("Are you sure you want to delete this book? (y/n): ").strip().lower()
            if confirm == 'y':
                del books[i]
                save_books(books)
                print("Book deleted successfully.")
            else:
                print("Deletion canceled.")
            return
    print("Book not found with that ISBN.")

4. Task: Movie Recommendation system:
    1. Use this url http://www.omdbapi.com/ 
        to fetch information about movies.
    2. Create a program that asks users for movie genre
        and recommends a random from that genre.




