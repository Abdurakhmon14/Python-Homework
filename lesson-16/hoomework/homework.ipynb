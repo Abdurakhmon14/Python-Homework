import pyodbc

connection = pyodbc.connect(
'DRIVER={SQL Server};'
'SERVER=ABDULLA-YUSUPOV;'
'DATABASE=testingpython;'
'Trusted_Connection=yes'
)

cursor = connection.cursor()
create_table = "Create table lesson16_ (ID int, Name varchar(20), Age int)"
