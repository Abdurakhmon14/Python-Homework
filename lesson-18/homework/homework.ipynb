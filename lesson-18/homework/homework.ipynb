import pandas as pd

pd.set_option('display.max_columns', 11, 'display.max_rows', 11)


flights = pd.read_csv('flights.csv')
flights

flights.head()

grouped = flights.groupby('AIRLINE')
type(grouped)
