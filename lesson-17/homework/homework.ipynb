
import pandas as pd
employee = pd.read_csv('employee.csv')
employee
select_columns = [
    'UNIQUE_ID',
    'DEPARTMENT',
    'GENDER',
    'BASE_SALARY'
]

top_5 = employee.DEPARTMENT.value_counts().index[:5]
top_5

employee[~employee.DEPARTMENT.isin(top_5)]
