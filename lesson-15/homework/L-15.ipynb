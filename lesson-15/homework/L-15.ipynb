import sqlite3

create_table = """
Create table People 
(FirstName TEXT, LastName TEXT, Age INT);
"""
insert_table = """
Insert into People values
('Bob', 'Johnson', 35),
('Alex', 'Robertson', 24);
"""

con = sqlite3.connect('test.db')
cursor = con.cursor()
cursor.execute(create_table)
cursor.execute(insert_table)
con.commit()
con.close()
